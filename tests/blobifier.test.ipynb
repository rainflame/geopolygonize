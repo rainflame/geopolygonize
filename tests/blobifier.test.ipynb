{
 "cells": [
  {
   "cell_type": "code",
   "execution_count": 1,
   "metadata": {},
   "outputs": [],
   "source": [
    "# NOTE: Run using the path to the jupyter executable inside your virtual environment!\n",
    "\n",
    "import os\n",
    "import sys\n",
    "from pathlib import Path\n",
    "\n",
    "import numpy as np\n",
    "\n",
    "curr_file_path = Path().absolute()\n",
    "\n",
    "utilities_path = os.path.abspath(os.path.join(curr_file_path, \"..\", \"utilities\"))\n",
    "sys.path.append(utilities_path)\n",
    "import visualization as viz\n",
    "\n",
    "blobifier_path = os.path.abspath(os.path.join(curr_file_path, \"..\", \"src\", \"blobifier\"))\n",
    "sys.path.append(blobifier_path)\n",
    "from blobifier import Blobifier"
   ]
  },
  {
   "cell_type": "code",
   "execution_count": 2,
   "metadata": {},
   "outputs": [
    {
     "data": {
      "image/png": "[encoded data removed]",
      "text/plain": [
       "<Figure size 432x288 with 1 Axes>"
      ]
     },
     "metadata": {
      "needs_background": "light"
     },
     "output_type": "display_data"
    },
    {
     "data": {
      "image/png": "[encoded data removed]",
      "text/plain": [
       "<Figure size 432x288 with 1 Axes>"
      ]
     },
     "metadata": {
      "needs_background": "light"
     },
     "output_type": "display_data"
    }
   ],
   "source": [
    "original = np.array([\n",
    "    [0, 0, 0, 0, 0, 0, 0, 0, 0, 0],\n",
    "    [0, 1, 1, 1, 0, 0, 0, 0, 0, 0],\n",
    "    [0, 1, 1, 1, 0, 0, 0, 0, 0, 0],\n",
    "    [0, 1, 1, 1, 0, 0, 0, 0, 0, 0],\n",
    "    [0, 0, 0, 0, 0, 0, 2, 2, 2, 0],\n",
    "    [0, 0, 0, 0, 0, 0, 2, 2, 2, 0],\n",
    "    [0, 0, 0, 0, 0, 0, 2, 2, 2, 0],\n",
    "    [0, 0, 0, 0, 3, 3, 3, 3, 0, 0],\n",
    "    [0, 0, 0, 0, 3, 3, 3, 3, 0, 0],\n",
    "    [0, 0, 0, 0, 3, 3, 3, 3, 0, 0],\n",
    "])\n",
    "\n",
    "blobifier = Blobifier(original, 10)\n",
    "cleaned = blobifier.blobify()\n",
    "config = viz.get_show_config(original)\n",
    "viz.show_raster(original, *config)\n",
    "viz.show_raster(cleaned, *config)"
   ]
  },
  {
   "cell_type": "code",
   "execution_count": 3,
   "metadata": {},
   "outputs": [
    {
     "data": {
      "image/png": "[encoded data removed]",
      "text/plain": [
       "<Figure size 432x288 with 1 Axes>"
      ]
     },
     "metadata": {
      "needs_background": "light"
     },
     "output_type": "display_data"
    },
    {
     "data": {
      "image/png": "[encoded data removed]",
      "text/plain": [
       "<Figure size 432x288 with 1 Axes>"
      ]
     },
     "metadata": {
      "needs_background": "light"
     },
     "output_type": "display_data"
    }
   ],
   "source": [
    "original = np.array([\n",
    "    [0, 0, 0, 0, 0, 0, 0, 0, 0, 0],\n",
    "    [0, 0, 0, 0, 0, 0, 0, 0, 0, 0],\n",
    "    [0, 0, 0, 0, 0, 0, 0, 0, 0, 0],\n",
    "    [0, 0, 0, 0, 0, 1, 0, 0, 0, 0],\n",
    "    [0, 0, 0, 0, 1, 1, 1, 0, 0, 0],\n",
    "    [0, 0, 0, 0, 1, 0, 1, 0, 0, 0],\n",
    "    [0, 0, 0, 0, 1, 1, 1, 0, 0, 0],\n",
    "    [0, 0, 0, 0, 0, 0, 0, 0, 0, 0],\n",
    "    [0, 0, 0, 0, 0, 0, 0, 0, 0, 0],\n",
    "    [0, 0, 0, 0, 0, 0, 0, 0, 0, 0],\n",
    "])\n",
    "blobifier = Blobifier(original, 10)\n",
    "cleaned = blobifier.blobify()\n",
    "config = viz.get_show_config(original)\n",
    "viz.show_raster(original, *config)\n",
    "viz.show_raster(cleaned, *config)"
   ]
  },
  {
   "cell_type": "code",
   "execution_count": 4,
   "metadata": {},
   "outputs": [
    {
     "data": {
      "image/png": "[encoded data removed]",
      "text/plain": [
       "<Figure size 432x288 with 1 Axes>"
      ]
     },
     "metadata": {
      "needs_background": "light"
     },
     "output_type": "display_data"
    },
    {
     "data": {
      "image/png": "[encoded data removed]",
      "text/plain": [
       "<Figure size 432x288 with 1 Axes>"
      ]
     },
     "metadata": {
      "needs_background": "light"
     },
     "output_type": "display_data"
    }
   ],
   "source": [
    "original = np.array([\n",
    "    [0, 0, 0, 0, 0, 0, 0, 0, 0, 0],\n",
    "    [0, 0, 0, 0, 0, 0, 0, 0, 0, 0],\n",
    "    [0, 1, 1, 1, 0, 0, 0, 0, 0, 0],\n",
    "    [0, 1, 2, 2, 0, 0, 0, 0, 0, 0],\n",
    "    [0, 1, 2, 2, 2, 1, 0, 0, 0, 0],\n",
    "    [0, 0, 1, 2, 2, 2, 1, 0, 0, 0],\n",
    "    [0, 0, 0, 0, 2, 2, 1, 0, 0, 0],\n",
    "    [0, 0, 0, 0, 1, 2, 2, 1, 0, 0],\n",
    "    [0, 0, 0, 0, 0, 1, 1, 0, 0, 0],\n",
    "    [0, 0, 0, 0, 0, 0, 0, 0, 0, 0],\n",
    "])\n",
    "blobifier = Blobifier(original, 10)\n",
    "cleaned = blobifier.blobify()\n",
    "config = viz.get_show_config(original)\n",
    "viz.show_raster(original, *config)\n",
    "viz.show_raster(cleaned, *config)"
   ]
  },
  {
   "cell_type": "code",
   "execution_count": null,
   "metadata": {},
   "outputs": [],
   "source": []
  }
 ],
 "metadata": {
  "kernelspec": {
   "display_name": "Python 3 (ipykernel)",
   "language": "python",
   "name": "python3"
  },
  "language_info": {
   "codemirror_mode": {
    "name": "ipython",
    "version": 3
   },
   "file_extension": ".py",
   "mimetype": "text/x-python",
   "name": "python",
   "nbconvert_exporter": "python",
   "pygments_lexer": "ipython3",
   "version": "3.9.18"
  }
 },
 "nbformat": 4,
 "nbformat_minor": 4
}
