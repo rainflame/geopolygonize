{
 "cells": [
  {
   "cell_type": "code",
   "execution_count": null,
   "metadata": {},
   "outputs": [],
   "source": [
    "\n",
    "import numpy as np\n",
    "\n",
    "import visualization as viz\n",
    "from blobifier import blobify"
   ]
  },
  {
   "cell_type": "code",
   "execution_count": null,
   "metadata": {},
   "outputs": [],
   "source": [
    "original = np.array([\n",
    "    [0, 0, 0, 0, 0, 0, 0, 0, 0, 0],\n",
    "    [0, 1, 1, 1, 0, 0, 0, 0, 0, 0],\n",
    "    [0, 1, 1, 1, 0, 0, 0, 0, 0, 0],\n",
    "    [0, 1, 1, 1, 0, 0, 0, 0, 0, 0],\n",
    "    [0, 0, 0, 0, 0, 0, 2, 2, 2, 0],\n",
    "    [0, 0, 0, 0, 0, 0, 2, 2, 2, 0],\n",
    "    [0, 0, 0, 0, 0, 0, 2, 2, 2, 0],\n",
    "    [0, 0, 0, 0, 3, 3, 3, 3, 0, 0],\n",
    "    [0, 0, 0, 0, 3, 3, 3, 3, 0, 0],\n",
    "    [0, 0, 0, 0, 3, 3, 3, 3, 0, 0],\n",
    "])\n",
    "\n",
    "cleaned = blobify(original, 10)\n",
    "config = viz.get_show_config(original)\n",
    "viz.show_raster(original, *config)\n",
    "viz.show_raster(cleaned, *config)"
   ]
  },
  {
   "cell_type": "code",
   "execution_count": null,
   "metadata": {},
   "outputs": [],
   "source": [
    "original = np.array([\n",
    "    [0, 0, 0, 0, 0, 0, 0, 0, 0, 0],\n",
    "    [0, 0, 0, 0, 0, 0, 0, 0, 0, 0],\n",
    "    [0, 0, 0, 0, 0, 0, 0, 0, 0, 0],\n",
    "    [0, 0, 0, 0, 0, 1, 0, 0, 0, 0],\n",
    "    [0, 0, 0, 0, 1, 1, 1, 0, 0, 0],\n",
    "    [0, 0, 0, 0, 1, 0, 1, 0, 0, 0],\n",
    "    [0, 0, 0, 0, 1, 1, 1, 0, 0, 0],\n",
    "    [0, 0, 0, 0, 0, 0, 0, 0, 0, 0],\n",
    "    [0, 0, 0, 0, 0, 0, 0, 0, 0, 0],\n",
    "    [0, 0, 0, 0, 0, 0, 0, 0, 0, 0],\n",
    "])\n",
    "cleaned = blobify(original, 10)\n",
    "config = viz.get_show_config(original)\n",
    "viz.show_raster(original, *config)\n",
    "viz.show_raster(cleaned, *config)"
   ]
  },
  {
   "cell_type": "code",
   "execution_count": null,
   "metadata": {},
   "outputs": [],
   "source": [
    "original = np.array([\n",
    "    [0, 0, 0, 0, 0, 0, 0, 0, 0, 0],\n",
    "    [0, 0, 0, 0, 0, 0, 0, 0, 0, 0],\n",
    "    [0, 1, 1, 1, 0, 0, 0, 0, 0, 0],\n",
    "    [0, 1, 2, 2, 0, 0, 0, 0, 0, 0],\n",
    "    [0, 1, 2, 2, 2, 1, 0, 0, 0, 0],\n",
    "    [0, 0, 1, 2, 2, 2, 1, 0, 0, 0],\n",
    "    [0, 0, 0, 0, 2, 2, 1, 0, 0, 0],\n",
    "    [0, 0, 0, 0, 1, 2, 2, 1, 0, 0],\n",
    "    [0, 0, 0, 0, 0, 1, 1, 0, 0, 0],\n",
    "    [0, 0, 0, 0, 0, 0, 0, 0, 0, 0],\n",
    "])\n",
    "cleaned = blobify(original, 10)\n",
    "config = viz.get_show_config(original)\n",
    "viz.show_raster(original, *config)\n",
    "viz.show_raster(cleaned, *config)"
   ]
  }
 ],
 "metadata": {
  "kernelspec": {
   "display_name": ".venv",
   "language": "python",
   "name": "python3"
  },
  "language_info": {
   "codemirror_mode": {
    "name": "ipython",
    "version": 3
   },
   "file_extension": ".py",
   "mimetype": "text/x-python",
   "name": "python",
   "nbconvert_exporter": "python",
   "pygments_lexer": "ipython3",
   "version": "3.11.4"
  }
 },
 "nbformat": 4,
 "nbformat_minor": 2
}
