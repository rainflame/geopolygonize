{
 "cells": [
  {
   "cell_type": "code",
   "execution_count": null,
   "metadata": {},
   "outputs": [],
   "source": [
    "\n",
    "import glob\n",
    "\n",
    "import rasterio\n",
    "from shapely.geometry import LineString\n",
    "\n",
    "import utils.visualization as viz\n",
    "from utils.blobifier import blobify_raster_file\n",
    "from utils.vectorizer.vector_builder import VectorBuilder\n",
    "\n",
    "from simplification.cutil import simplify_coords\n",
    "\n",
    "! export PYTHONOPTIMIZE=\"\" # show asserts\n",
    "\n",
    "\n",
    "\n",
    "\n",
    "\n",
    "\n",
    "\n",
    "\n"
   ]
  },
  {
   "cell_type": "code",
   "execution_count": null,
   "metadata": {},
   "outputs": [],
   "source": [
    "input_filepath = glob.glob('data/sources/*.tif')[0]\n",
    "output_filepath = 'data/sources/cleaned.tif'\n",
    "\n",
    "cleaned = blobify_raster_file(input_filepath, output_filepath)\n",
    "\n",
    "with rasterio.open(input_filepath) as src:\n",
    "    meta = src.meta\n",
    "    input_raster = src.read(1)\n",
    "\n",
    "with rasterio.open(output_filepath) as src:\n",
    "    meta = src.meta\n",
    "    output_raster = src.read(1)\n",
    "\n",
    "config = viz.get_show_config(input_raster)\n",
    "viz.show_raster(input_raster, *config)\n",
    "viz.show_raster(output_raster, *config)"
   ]
  },
  {
   "cell_type": "code",
   "execution_count": null,
   "metadata": {},
   "outputs": [],
   "source": [
    "input_filepath = \"data/sources/cleaned.tif\"\n",
    "output_filepath = \"data/sources/smoothed.shp\"\n",
    "\n",
    "tolerance = 30 # 30 meters, same as maximum resolution of image\n",
    "\n",
    "def simplify(segment):\n",
    "    simplified = simplify_coords(segment.coords, tolerance)\n",
    "    return LineString(simplified)\n",
    "\n",
    "vector_builder = VectorBuilder(input_filepath)\n",
    "vector_builder.run_per_segment(simplify)\n",
    "vector_builder.rebuild()\n",
    "vector_builder.save(output_filepath)\n",
    "\n",
    "data = vector_builder.data\n",
    "vectors = vector_builder.covers\n",
    "viz.show_raster(data, *viz.get_show_config(data))\n",
    "labels = [v.label for v in vectors]\n",
    "cmap = viz.generate_color_map(labels)\n",
    "modified_polygons = [v.modified_polygon for v in vectors]\n",
    "viz.show_polygons(modified_polygons, labels, color_map=cmap)\n",
    "\n"
   ]
  }
 ],
 "metadata": {
  "kernelspec": {
   "display_name": ".venv",
   "language": "python",
   "name": "python3"
  },
  "language_info": {
   "codemirror_mode": {
    "name": "ipython",
    "version": 3
   },
   "file_extension": ".py",
   "mimetype": "text/x-python",
   "name": "python",
   "nbconvert_exporter": "python",
   "pygments_lexer": "ipython3",
   "version": "3.11.4"
  }
 },
 "nbformat": 4,
 "nbformat_minor": 2
}
