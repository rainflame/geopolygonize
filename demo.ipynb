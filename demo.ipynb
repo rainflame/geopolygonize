{
 "cells": [
  {
   "cell_type": "code",
   "execution_count": null,
   "metadata": {},
   "outputs": [],
   "source": [
    "\n",
    "import glob\n",
    "\n",
    "import rasterio\n",
    "from shapely.geometry import LineString\n",
    "import geopandas as gpd\n",
    "\n",
    "import utils.visualization as viz\n",
    "from utils.blobifier import blobify\n",
    "from utils.vectorizer.vector_builder import VectorBuilder\n",
    "\n",
    "from simplification.cutil import simplify_coords\n",
    "\n",
    "! export PYTHONOPTIMIZE=\"\" # show asserts\n",
    "\n",
    "\n",
    "\n",
    "\n",
    "\n",
    "\n",
    "\n",
    "\n"
   ]
  },
  {
   "cell_type": "code",
   "execution_count": null,
   "metadata": {},
   "outputs": [],
   "source": [
    "input_filepath = glob.glob('data/sources/*.tif')[0]\n",
    "output_filepath = \"data/intermediates/vectors.shp\""
   ]
  },
  {
   "cell_type": "code",
   "execution_count": null,
   "metadata": {},
   "outputs": [],
   "source": [
    "with rasterio.open(input_filepath) as src:\n",
    "    meta = src.meta\n",
    "    original = src.read(1)\n",
    "    transform = src.transform"
   ]
  },
  {
   "cell_type": "code",
   "execution_count": null,
   "metadata": {},
   "outputs": [],
   "source": [
    "\n",
    "\n",
    "\n",
    "min_blob_size = 30\n",
    "cleaned = blobify(original, min_blob_size)\n",
    "\n",
    "config = viz.get_show_config(original)\n",
    "viz.show_raster(original, *config)\n",
    "viz.show_raster(cleaned, *config)"
   ]
  },
  {
   "cell_type": "code",
   "execution_count": null,
   "metadata": {},
   "outputs": [],
   "source": [
    "meters_per_pixel = 30\n",
    "tolerance = meters_per_pixel\n",
    "\n",
    "def simplify(segment):\n",
    "    # Simplification will turn rings into what are effectively points.\n",
    "    # We cut the ring in half to provide simplification with non-ring segments instead.\n",
    "    if segment.is_ring:\n",
    "        assert len(segment.coords) >= 3\n",
    "        midpoint_idx = len(segment.coords) // 2\n",
    "        segment1 = LineString(segment.coords[:midpoint_idx+1])\n",
    "        segment2 = LineString(segment.coords[midpoint_idx:])\n",
    "        simplified_coords1 = simplify_coords(segment1.coords, tolerance)\n",
    "        simplified_coords2 = simplify_coords(segment2.coords, tolerance)\n",
    "        simplified = LineString(simplified_coords1[:-1] + simplified_coords2)\n",
    "    else:\n",
    "        simplified_coords = simplify_coords(segment.coords, tolerance)\n",
    "        simplified = LineString(simplified_coords)\n",
    "    return simplified\n",
    "\n",
    "vector_builder = VectorBuilder(cleaned, transform)\n",
    "vector_builder.run_per_segment(simplify)\n",
    "vector_builder.rebuild()\n",
    "simplified_polygons, labels = vector_builder.get_result()\n",
    "\n",
    "cmap = viz.generate_color_map(labels)\n",
    "viz.show_polygons(simplified_polygons, labels, color_map=cmap)"
   ]
  },
  {
   "cell_type": "code",
   "execution_count": null,
   "metadata": {},
   "outputs": [],
   "source": [
    "gdf = gpd.GeoDataFrame(geometry=simplified_polygons)\n",
    "gdf['label'] = labels\n",
    "gdf.crs = meta['crs']\n",
    "gdf.to_file(output_filepath)"
   ]
  }
 ],
 "metadata": {
  "kernelspec": {
   "display_name": ".venv",
   "language": "python",
   "name": "python3"
  },
  "language_info": {
   "codemirror_mode": {
    "name": "ipython",
    "version": 3
   },
   "file_extension": ".py",
   "mimetype": "text/x-python",
   "name": "python",
   "nbconvert_exporter": "python",
   "pygments_lexer": "ipython3",
   "version": "3.11.4"
  }
 },
 "nbformat": 4,
 "nbformat_minor": 2
}
